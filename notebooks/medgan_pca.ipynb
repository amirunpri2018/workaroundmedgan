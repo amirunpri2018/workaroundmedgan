{
 "cells": [
  {
   "cell_type": "code",
   "execution_count": 113,
   "metadata": {
    "collapsed": true
   },
   "outputs": [],
   "source": [
    "import numpy as np\n",
    "import pickle\n",
    "from scipy.stats import binom\n",
    "import matplotlib.pyplot as plt\n",
    "import pandas as pd \n",
    "import pickle\n",
    "\n",
    "%matplotlib inline\n",
    "\n",
    "np.random.seed(0)"
   ]
  },
  {
   "cell_type": "code",
   "execution_count": 114,
   "metadata": {
    "collapsed": true
   },
   "outputs": [],
   "source": [
    "data = pd.read_table('../data/data_nam.txt', sep=' ',header=0)"
   ]
  },
  {
   "cell_type": "code",
   "execution_count": 115,
   "metadata": {},
   "outputs": [
    {
     "data": {
      "text/html": [
       "<div>\n",
       "<style scoped>\n",
       "    .dataframe tbody tr th:only-of-type {\n",
       "        vertical-align: middle;\n",
       "    }\n",
       "\n",
       "    .dataframe tbody tr th {\n",
       "        vertical-align: top;\n",
       "    }\n",
       "\n",
       "    .dataframe thead th {\n",
       "        text-align: right;\n",
       "    }\n",
       "</style>\n",
       "<table border=\"1\" class=\"dataframe\">\n",
       "  <thead>\n",
       "    <tr style=\"text-align: right;\">\n",
       "      <th></th>\n",
       "      <th>IndivID</th>\n",
       "      <th>PopID</th>\n",
       "      <th>Pop</th>\n",
       "      <th>Country</th>\n",
       "      <th>Continent</th>\n",
       "      <th>sex</th>\n",
       "      <th>lat</th>\n",
       "      <th>long</th>\n",
       "      <th>L1.125</th>\n",
       "      <th>L1.130</th>\n",
       "      <th>...</th>\n",
       "      <th>L677.255.553287981859</th>\n",
       "      <th>L677.259</th>\n",
       "      <th>L677.263</th>\n",
       "      <th>L677.267</th>\n",
       "      <th>L678.202</th>\n",
       "      <th>L678.206</th>\n",
       "      <th>L678.209.848101265823</th>\n",
       "      <th>L678.210</th>\n",
       "      <th>L678.214</th>\n",
       "      <th>L678.218</th>\n",
       "    </tr>\n",
       "  </thead>\n",
       "  <tbody>\n",
       "    <tr>\n",
       "      <th>Chipewyan29</th>\n",
       "      <td>2012</td>\n",
       "      <td>811</td>\n",
       "      <td>Chipewyan</td>\n",
       "      <td>Canada</td>\n",
       "      <td>AMERICA</td>\n",
       "      <td>0</td>\n",
       "      <td>59.55</td>\n",
       "      <td>-107.3</td>\n",
       "      <td>0</td>\n",
       "      <td>0</td>\n",
       "      <td>...</td>\n",
       "      <td>0</td>\n",
       "      <td>0</td>\n",
       "      <td>0</td>\n",
       "      <td>0</td>\n",
       "      <td>0</td>\n",
       "      <td>0</td>\n",
       "      <td>0</td>\n",
       "      <td>1</td>\n",
       "      <td>0</td>\n",
       "      <td>0</td>\n",
       "    </tr>\n",
       "    <tr>\n",
       "      <th>Chipewyan31</th>\n",
       "      <td>2156</td>\n",
       "      <td>811</td>\n",
       "      <td>Chipewyan</td>\n",
       "      <td>Canada</td>\n",
       "      <td>AMERICA</td>\n",
       "      <td>0</td>\n",
       "      <td>59.55</td>\n",
       "      <td>-107.3</td>\n",
       "      <td>0</td>\n",
       "      <td>0</td>\n",
       "      <td>...</td>\n",
       "      <td>0</td>\n",
       "      <td>0</td>\n",
       "      <td>0</td>\n",
       "      <td>0</td>\n",
       "      <td>0</td>\n",
       "      <td>0</td>\n",
       "      <td>1</td>\n",
       "      <td>0</td>\n",
       "      <td>0</td>\n",
       "      <td>0</td>\n",
       "    </tr>\n",
       "    <tr>\n",
       "      <th>Chipewyan33</th>\n",
       "      <td>2381</td>\n",
       "      <td>811</td>\n",
       "      <td>Chipewyan</td>\n",
       "      <td>Canada</td>\n",
       "      <td>AMERICA</td>\n",
       "      <td>0</td>\n",
       "      <td>59.55</td>\n",
       "      <td>-107.3</td>\n",
       "      <td>0</td>\n",
       "      <td>0</td>\n",
       "      <td>...</td>\n",
       "      <td>0</td>\n",
       "      <td>0</td>\n",
       "      <td>0</td>\n",
       "      <td>0</td>\n",
       "      <td>0</td>\n",
       "      <td>1</td>\n",
       "      <td>0</td>\n",
       "      <td>0</td>\n",
       "      <td>0</td>\n",
       "      <td>0</td>\n",
       "    </tr>\n",
       "    <tr>\n",
       "      <th>Chipewyan35</th>\n",
       "      <td>2382</td>\n",
       "      <td>811</td>\n",
       "      <td>Chipewyan</td>\n",
       "      <td>Canada</td>\n",
       "      <td>AMERICA</td>\n",
       "      <td>0</td>\n",
       "      <td>59.55</td>\n",
       "      <td>-107.3</td>\n",
       "      <td>0</td>\n",
       "      <td>0</td>\n",
       "      <td>...</td>\n",
       "      <td>0</td>\n",
       "      <td>0</td>\n",
       "      <td>0</td>\n",
       "      <td>0</td>\n",
       "      <td>0</td>\n",
       "      <td>0</td>\n",
       "      <td>0</td>\n",
       "      <td>1</td>\n",
       "      <td>0</td>\n",
       "      <td>0</td>\n",
       "    </tr>\n",
       "    <tr>\n",
       "      <th>Chipewyan37</th>\n",
       "      <td>2383</td>\n",
       "      <td>811</td>\n",
       "      <td>Chipewyan</td>\n",
       "      <td>Canada</td>\n",
       "      <td>AMERICA</td>\n",
       "      <td>0</td>\n",
       "      <td>59.55</td>\n",
       "      <td>-107.3</td>\n",
       "      <td>0</td>\n",
       "      <td>0</td>\n",
       "      <td>...</td>\n",
       "      <td>0</td>\n",
       "      <td>1</td>\n",
       "      <td>0</td>\n",
       "      <td>0</td>\n",
       "      <td>0</td>\n",
       "      <td>0</td>\n",
       "      <td>0</td>\n",
       "      <td>1</td>\n",
       "      <td>0</td>\n",
       "      <td>0</td>\n",
       "    </tr>\n",
       "  </tbody>\n",
       "</table>\n",
       "<p>5 rows × 5717 columns</p>\n",
       "</div>"
      ],
      "text/plain": [
       "             IndivID  PopID        Pop Country Continent  sex    lat   long  \\\n",
       "Chipewyan29     2012    811  Chipewyan  Canada   AMERICA    0  59.55 -107.3   \n",
       "Chipewyan31     2156    811  Chipewyan  Canada   AMERICA    0  59.55 -107.3   \n",
       "Chipewyan33     2381    811  Chipewyan  Canada   AMERICA    0  59.55 -107.3   \n",
       "Chipewyan35     2382    811  Chipewyan  Canada   AMERICA    0  59.55 -107.3   \n",
       "Chipewyan37     2383    811  Chipewyan  Canada   AMERICA    0  59.55 -107.3   \n",
       "\n",
       "             L1.125  L1.130    ...     L677.255.553287981859  L677.259  \\\n",
       "Chipewyan29       0       0    ...                         0         0   \n",
       "Chipewyan31       0       0    ...                         0         0   \n",
       "Chipewyan33       0       0    ...                         0         0   \n",
       "Chipewyan35       0       0    ...                         0         0   \n",
       "Chipewyan37       0       0    ...                         0         1   \n",
       "\n",
       "             L677.263  L677.267  L678.202  L678.206  L678.209.848101265823  \\\n",
       "Chipewyan29         0         0         0         0                      0   \n",
       "Chipewyan31         0         0         0         0                      1   \n",
       "Chipewyan33         0         0         0         1                      0   \n",
       "Chipewyan35         0         0         0         0                      0   \n",
       "Chipewyan37         0         0         0         0                      0   \n",
       "\n",
       "             L678.210  L678.214  L678.218  \n",
       "Chipewyan29         1         0         0  \n",
       "Chipewyan31         0         0         0  \n",
       "Chipewyan33         0         0         0  \n",
       "Chipewyan35         1         0         0  \n",
       "Chipewyan37         1         0         0  \n",
       "\n",
       "[5 rows x 5717 columns]"
      ]
     },
     "execution_count": 115,
     "metadata": {},
     "output_type": "execute_result"
    }
   ],
   "source": [
    "data.head()"
   ]
  },
  {
   "cell_type": "markdown",
   "metadata": {},
   "source": [
    "# Analysis"
   ]
  },
  {
   "cell_type": "markdown",
   "metadata": {},
   "source": [
    "Names of the different populations."
   ]
  },
  {
   "cell_type": "code",
   "execution_count": 116,
   "metadata": {},
   "outputs": [
    {
     "name": "stdout",
     "output_type": "stream",
     "text": [
      "Names of the different populations:\n",
      " ['Ache' 'Arhuaco' 'Aymara' 'Cabecar' 'Chipewyan' 'Cree' 'Embera' 'Guarani'\n",
      " 'Guaymi' 'Huilliche' 'Inga' 'Kaingang' 'Kaqchikel' 'Karitiana' 'Kogi'\n",
      " 'Maya' 'Mixe' 'Mixtec' 'Ojibwa' 'Piapoco' 'Pima' 'Quechua' 'Surui'\n",
      " 'TicunaArara' 'Waunana' 'Wayuu' 'Zapotec'] \n",
      "\n",
      "Number of populations:  27\n"
     ]
    }
   ],
   "source": [
    "print('Names of the different populations:\\n', np.unique(data['Pop']), '\\n')\n",
    "print('Number of populations: ', len(np.unique(data['Pop'])))"
   ]
  },
  {
   "cell_type": "code",
   "execution_count": 117,
   "metadata": {},
   "outputs": [
    {
     "name": "stdout",
     "output_type": "stream",
     "text": [
      "Coordinates of the different populations:\n",
      "\n"
     ]
    },
    {
     "data": {
      "text/html": [
       "<div>\n",
       "<style scoped>\n",
       "    .dataframe tbody tr th:only-of-type {\n",
       "        vertical-align: middle;\n",
       "    }\n",
       "\n",
       "    .dataframe tbody tr th {\n",
       "        vertical-align: top;\n",
       "    }\n",
       "\n",
       "    .dataframe thead th {\n",
       "        text-align: right;\n",
       "    }\n",
       "</style>\n",
       "<table border=\"1\" class=\"dataframe\">\n",
       "  <thead>\n",
       "    <tr style=\"text-align: right;\">\n",
       "      <th></th>\n",
       "      <th>long</th>\n",
       "      <th>lat</th>\n",
       "    </tr>\n",
       "    <tr>\n",
       "      <th>Pop</th>\n",
       "      <th></th>\n",
       "      <th></th>\n",
       "    </tr>\n",
       "  </thead>\n",
       "  <tbody>\n",
       "    <tr>\n",
       "      <th>Chipewyan</th>\n",
       "      <td>-107.3</td>\n",
       "      <td>59.55</td>\n",
       "    </tr>\n",
       "    <tr>\n",
       "      <th>Cree</th>\n",
       "      <td>-102.5</td>\n",
       "      <td>50.33</td>\n",
       "    </tr>\n",
       "    <tr>\n",
       "      <th>Ojibwa</th>\n",
       "      <td>-81.0</td>\n",
       "      <td>46.50</td>\n",
       "    </tr>\n",
       "    <tr>\n",
       "      <th>Kaqchikel</th>\n",
       "      <td>-91.0</td>\n",
       "      <td>15.00</td>\n",
       "    </tr>\n",
       "    <tr>\n",
       "      <th>Mixtec</th>\n",
       "      <td>-97.0</td>\n",
       "      <td>17.00</td>\n",
       "    </tr>\n",
       "    <tr>\n",
       "      <th>Mixe</th>\n",
       "      <td>-96.0</td>\n",
       "      <td>17.00</td>\n",
       "    </tr>\n",
       "    <tr>\n",
       "      <th>Zapotec</th>\n",
       "      <td>-97.0</td>\n",
       "      <td>16.00</td>\n",
       "    </tr>\n",
       "    <tr>\n",
       "      <th>Guaymi</th>\n",
       "      <td>-82.0</td>\n",
       "      <td>8.50</td>\n",
       "    </tr>\n",
       "    <tr>\n",
       "      <th>Cabecar</th>\n",
       "      <td>-84.0</td>\n",
       "      <td>9.50</td>\n",
       "    </tr>\n",
       "    <tr>\n",
       "      <th>Aymara</th>\n",
       "      <td>-70.0</td>\n",
       "      <td>-22.00</td>\n",
       "    </tr>\n",
       "    <tr>\n",
       "      <th>Huilliche</th>\n",
       "      <td>-73.0</td>\n",
       "      <td>-41.00</td>\n",
       "    </tr>\n",
       "    <tr>\n",
       "      <th>Guarani</th>\n",
       "      <td>-54.0</td>\n",
       "      <td>-23.00</td>\n",
       "    </tr>\n",
       "    <tr>\n",
       "      <th>Ache</th>\n",
       "      <td>-56.0</td>\n",
       "      <td>-24.00</td>\n",
       "    </tr>\n",
       "    <tr>\n",
       "      <th>Kaingang</th>\n",
       "      <td>-52.5</td>\n",
       "      <td>-24.00</td>\n",
       "    </tr>\n",
       "    <tr>\n",
       "      <th>Quechua</th>\n",
       "      <td>-74.0</td>\n",
       "      <td>-14.00</td>\n",
       "    </tr>\n",
       "    <tr>\n",
       "      <th>Kogi</th>\n",
       "      <td>-74.0</td>\n",
       "      <td>11.00</td>\n",
       "    </tr>\n",
       "    <tr>\n",
       "      <th>Inga</th>\n",
       "      <td>-77.0</td>\n",
       "      <td>1.00</td>\n",
       "    </tr>\n",
       "    <tr>\n",
       "      <th>Wayuu</th>\n",
       "      <td>-73.0</td>\n",
       "      <td>11.00</td>\n",
       "    </tr>\n",
       "    <tr>\n",
       "      <th>TicunaArara</th>\n",
       "      <td>-70.0</td>\n",
       "      <td>-4.00</td>\n",
       "    </tr>\n",
       "    <tr>\n",
       "      <th>Embera</th>\n",
       "      <td>-76.0</td>\n",
       "      <td>7.00</td>\n",
       "    </tr>\n",
       "    <tr>\n",
       "      <th>Waunana</th>\n",
       "      <td>-77.0</td>\n",
       "      <td>5.00</td>\n",
       "    </tr>\n",
       "    <tr>\n",
       "      <th>Arhuaco</th>\n",
       "      <td>-73.8</td>\n",
       "      <td>11.00</td>\n",
       "    </tr>\n",
       "    <tr>\n",
       "      <th>Piapoco</th>\n",
       "      <td>-68.0</td>\n",
       "      <td>3.00</td>\n",
       "    </tr>\n",
       "    <tr>\n",
       "      <th>Karitiana</th>\n",
       "      <td>-63.0</td>\n",
       "      <td>-10.00</td>\n",
       "    </tr>\n",
       "    <tr>\n",
       "      <th>Surui</th>\n",
       "      <td>-62.0</td>\n",
       "      <td>-11.00</td>\n",
       "    </tr>\n",
       "    <tr>\n",
       "      <th>Maya</th>\n",
       "      <td>-91.0</td>\n",
       "      <td>19.00</td>\n",
       "    </tr>\n",
       "    <tr>\n",
       "      <th>Pima</th>\n",
       "      <td>-108.0</td>\n",
       "      <td>29.00</td>\n",
       "    </tr>\n",
       "  </tbody>\n",
       "</table>\n",
       "</div>"
      ],
      "text/plain": [
       "              long    lat\n",
       "Pop                      \n",
       "Chipewyan   -107.3  59.55\n",
       "Cree        -102.5  50.33\n",
       "Ojibwa       -81.0  46.50\n",
       "Kaqchikel    -91.0  15.00\n",
       "Mixtec       -97.0  17.00\n",
       "Mixe         -96.0  17.00\n",
       "Zapotec      -97.0  16.00\n",
       "Guaymi       -82.0   8.50\n",
       "Cabecar      -84.0   9.50\n",
       "Aymara       -70.0 -22.00\n",
       "Huilliche    -73.0 -41.00\n",
       "Guarani      -54.0 -23.00\n",
       "Ache         -56.0 -24.00\n",
       "Kaingang     -52.5 -24.00\n",
       "Quechua      -74.0 -14.00\n",
       "Kogi         -74.0  11.00\n",
       "Inga         -77.0   1.00\n",
       "Wayuu        -73.0  11.00\n",
       "TicunaArara  -70.0  -4.00\n",
       "Embera       -76.0   7.00\n",
       "Waunana      -77.0   5.00\n",
       "Arhuaco      -73.8  11.00\n",
       "Piapoco      -68.0   3.00\n",
       "Karitiana    -63.0 -10.00\n",
       "Surui        -62.0 -11.00\n",
       "Maya         -91.0  19.00\n",
       "Pima        -108.0  29.00"
      ]
     },
     "execution_count": 117,
     "metadata": {},
     "output_type": "execute_result"
    }
   ],
   "source": [
    "print('Coordinates of the different populations:\\n')\n",
    "data[['Pop', 'long', 'lat']].set_index('Pop').drop_duplicates()"
   ]
  },
  {
   "cell_type": "markdown",
   "metadata": {},
   "source": [
    "## PCA and Regression : Data"
   ]
  },
  {
   "cell_type": "code",
   "execution_count": 118,
   "metadata": {},
   "outputs": [],
   "source": [
    "data_aux = data.copy()\n",
    "data_aux = data_aux.drop(data.columns[0:6], axis=1)\n",
    "x = data_aux.drop(data_aux.columns[0:2], axis=1).values\n",
    "y_long = data['long'].values\n",
    "y_lat = data['lat'].values"
   ]
  },
  {
   "cell_type": "code",
   "execution_count": null,
   "metadata": {
    "collapsed": true
   },
   "outputs": [],
   "source": [
    "# Save data.\n",
    "# pickle.dump(x, open('../data/data_nam_clean.matrix', 'wb'), -1)"
   ]
  },
  {
   "cell_type": "code",
   "execution_count": 119,
   "metadata": {
    "collapsed": true
   },
   "outputs": [],
   "source": [
    "from sklearn.decomposition import PCA\n",
    "\n",
    "pca = PCA(100).fit(x)\n",
    "comp = pca.transform(x)"
   ]
  },
  {
   "cell_type": "code",
   "execution_count": 153,
   "metadata": {
    "scrolled": false
   },
   "outputs": [
    {
     "data": {
      "text/plain": [
       "LinearRegression(copy_X=True, fit_intercept=True, n_jobs=1, normalize=False)"
      ]
     },
     "execution_count": 153,
     "metadata": {},
     "output_type": "execute_result"
    }
   ],
   "source": [
    "from sklearn.linear_model import LinearRegression\n",
    "\n",
    "reg_long = LinearRegression()\n",
    "reg_lat = LinearRegression()\n",
    "\n",
    "reg_long.fit(comp, y_long)\n",
    "reg_lat.fit(comp, y_lat)"
   ]
  },
  {
   "cell_type": "code",
   "execution_count": 146,
   "metadata": {},
   "outputs": [
    {
     "data": {
      "text/plain": [
       "SVR(C=1.0, cache_size=200, coef0=0.0, degree=3, epsilon=0.1, gamma='auto',\n",
       "  kernel='rbf', max_iter=-1, shrinking=True, tol=0.001, verbose=False)"
      ]
     },
     "execution_count": 146,
     "metadata": {},
     "output_type": "execute_result"
    }
   ],
   "source": [
    "from sklearn.svm import SVR\n",
    "\n",
    "reg_long = SVR()\n",
    "reg_lat = SVR()\n",
    "\n",
    "reg_long.fit(comp, y_long)\n",
    "reg_lat.fit(comp, y_lat)"
   ]
  },
  {
   "cell_type": "code",
   "execution_count": 154,
   "metadata": {
    "collapsed": true
   },
   "outputs": [],
   "source": [
    "x_long = reg_long.predict(comp)\n",
    "x_lat = reg_lat.predict(comp)"
   ]
  },
  {
   "cell_type": "markdown",
   "metadata": {},
   "source": [
    "## PCA and Regression : Generated Data"
   ]
  },
  {
   "cell_type": "code",
   "execution_count": 155,
   "metadata": {
    "collapsed": true
   },
   "outputs": [],
   "source": [
    "import matplotlib.pyplot as plt \n",
    "\n",
    "x_gen = np.load('../generated/synthetic_data_nam.npy')"
   ]
  },
  {
   "cell_type": "code",
   "execution_count": 156,
   "metadata": {
    "collapsed": true
   },
   "outputs": [],
   "source": [
    "x_gen = np.round(x_gen)"
   ]
  },
  {
   "cell_type": "code",
   "execution_count": 157,
   "metadata": {},
   "outputs": [],
   "source": [
    "from sklearn.decomposition import PCA\n",
    "\n",
    "pca_gen = PCA(100).fit(x_gen)\n",
    "comp_gen = pca.transform(x_gen)"
   ]
  },
  {
   "cell_type": "code",
   "execution_count": 158,
   "metadata": {
    "collapsed": true
   },
   "outputs": [],
   "source": [
    "x_gen_long = reg_long.predict(comp_gen)\n",
    "x_gen_lat = reg_lat.predict(comp_gen)"
   ]
  },
  {
   "cell_type": "code",
   "execution_count": 159,
   "metadata": {},
   "outputs": [
    {
     "data": {
      "text/plain": [
       "<matplotlib.collections.PathCollection at 0x11b3b2da0>"
      ]
     },
     "execution_count": 159,
     "metadata": {},
     "output_type": "execute_result"
    },
    {
     "data": {
      "image/png": "[encoded data removed]",
      "text/plain": [
       "<matplotlib.figure.Figure at 0x110e7ef60>"
      ]
     },
     "metadata": {},
     "output_type": "display_data"
    }
   ],
   "source": [
    "plt.scatter(x_gen_long, x_gen_lat )"
   ]
  },
  {
   "cell_type": "code",
   "execution_count": 160,
   "metadata": {},
   "outputs": [
    {
     "data": {
      "text/plain": [
       "<matplotlib.collections.PathCollection at 0x11b4d4860>"
      ]
     },
     "execution_count": 160,
     "metadata": {},
     "output_type": "execute_result"
    },
    {
     "data": {
      "image/png": "[encoded data removed]",
      "text/plain": [
       "<matplotlib.figure.Figure at 0x11b3d5e10>"
      ]
     },
     "metadata": {},
     "output_type": "display_data"
    }
   ],
   "source": [
    "plt.scatter(x_long, x_lat)"
   ]
  },
  {
   "cell_type": "code",
   "execution_count": null,
   "metadata": {
    "collapsed": true
   },
   "outputs": [],
   "source": []
  }
 ],
 "metadata": {
  "kernelspec": {
   "display_name": "Python 3",
   "language": "python",
   "name": "python3"
  },
  "language_info": {
   "codemirror_mode": {
    "name": "ipython",
    "version": 3
   },
   "file_extension": ".py",
   "mimetype": "text/x-python",
   "name": "python",
   "nbconvert_exporter": "python",
   "pygments_lexer": "ipython3",
   "version": "3.5.1"
  }
 },
 "nbformat": 4,
 "nbformat_minor": 2
}
